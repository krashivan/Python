{
  "nbformat": 4,
  "nbformat_minor": 0,
  "metadata": {
    "colab": {
      "name": "HW_Lesson_5.ipynb",
      "provenance": [],
      "collapsed_sections": []
    },
    "kernelspec": {
      "name": "python3",
      "display_name": "Python 3"
    },
    "language_info": {
      "name": "python"
    }
  },
  "cells": [
    {
      "cell_type": "code",
      "execution_count": null,
      "metadata": {
        "id": "Z0Fhi_3i7kab"
      },
      "outputs": [],
      "source": [
        "!ls"
      ]
    },
    {
      "cell_type": "markdown",
      "source": [
        "# Практическое задание №5"
      ],
      "metadata": {
        "id": "FUCAGcZWo1Pm"
      }
    },
    {
      "cell_type": "markdown",
      "source": [
        "Загрузка и подготовка данных"
      ],
      "metadata": {
        "id": "ffZoqGsShKdD"
      }
    },
    {
      "cell_type": "code",
      "execution_count": null,
      "metadata": {
        "id": "dM3kUu8_f8OW"
      },
      "outputs": [],
      "source": [
        "!wget https://github.com/krashivan/working_files/raw/main/PA2HW1/marketing_campaign.csv"
      ]
    },
    {
      "cell_type": "code",
      "source": [
        "!wget https://github.com/krashivan/working_files/raw/main/PA2HW1/subscribers.csv"
      ],
      "metadata": {
        "id": "Haj-qtFTgseY"
      },
      "execution_count": null,
      "outputs": []
    },
    {
      "cell_type": "code",
      "source": [
        "!wget https://github.com/krashivan/working_files/raw/main/PA2HW1/users.csv"
      ],
      "metadata": {
        "id": "FZwNS6yxg234"
      },
      "execution_count": null,
      "outputs": []
    },
    {
      "cell_type": "code",
      "source": [
        "import pandas as pd\n",
        "import numpy as np\n",
        "import math\n",
        "import matplotlib.pyplot as plt\n",
        "\n",
        "df_mark = pd.read_csv('marketing_campaign.csv', header = 0, sep=',')\n",
        "df_sub = pd.read_csv('subscribers.csv', header = 0, sep=',')\n",
        "df_user = pd.read_csv('users.csv', header = 0, sep=',')\n",
        "\n",
        "print(f'marketing_campaign - {len(df_mark)}\\nsubscribers - {len(df_sub)}\\nusers - {len(df_user)}')\n",
        "\n",
        "df = pd.merge(df_mark, df_sub, on = 'user_id', how = 'left').merge(df_user, on = 'user_id', how = 'left')"
      ],
      "metadata": {
        "id": "3lA4CUxKIG-4",
        "colab": {
          "base_uri": "https://localhost:8080/"
        },
        "outputId": "0e5707f5-de2b-4f11-aec4-1f62b1670922"
      },
      "execution_count": null,
      "outputs": [
        {
          "output_type": "stream",
          "name": "stdout",
          "text": [
            "marketing_campaign - 10037\n",
            "subscribers - 10037\n",
            "users - 10037\n"
          ]
        }
      ]
    },
    {
      "cell_type": "markdown",
      "source": [
        "## Задание 1\n",
        "\n",
        "Взять датасет из домашнего задания №2. Проверить гипотезу о том, в каком варианте теста (control/personalization) больше конверсия (converted) и значимо ли это отличие статистически."
      ],
      "metadata": {
        "id": "eYIgGOi68aj2"
      }
    },
    {
      "cell_type": "code",
      "source": [
        "df_var_conv = df.loc[df['converted'] == True, ['variant', 'converted']].groupby('variant')['converted'].count()\n",
        "df_var_notconv = df.loc[df['converted'] == False, ['variant', 'converted']].groupby('variant')['converted'].count()\n",
        "\n",
        "df_var = pd.merge( df_var_conv, df_var_notconv,  on = 'variant', how = 'left')\n",
        "df_var.columns = ['converted', 'not_converted']\n",
        "df_var.index.name = None\n",
        "\n",
        "df_var"
      ],
      "metadata": {
        "colab": {
          "base_uri": "https://localhost:8080/",
          "height": 110
        },
        "id": "iVz-ssAa9Km-",
        "outputId": "e2e1a4c8-7956-4332-dbd2-50564626e7e0"
      },
      "execution_count": null,
      "outputs": [
        {
          "output_type": "execute_result",
          "data": {
            "text/html": [
              "\n",
              "  <div id=\"df-bce6aed5-40eb-4439-bf67-66e72c1932c2\">\n",
              "    <div class=\"colab-df-container\">\n",
              "      <div>\n",
              "<style scoped>\n",
              "    .dataframe tbody tr th:only-of-type {\n",
              "        vertical-align: middle;\n",
              "    }\n",
              "\n",
              "    .dataframe tbody tr th {\n",
              "        vertical-align: top;\n",
              "    }\n",
              "\n",
              "    .dataframe thead th {\n",
              "        text-align: right;\n",
              "    }\n",
              "</style>\n",
              "<table border=\"1\" class=\"dataframe\">\n",
              "  <thead>\n",
              "    <tr style=\"text-align: right;\">\n",
              "      <th></th>\n",
              "      <th>converted</th>\n",
              "      <th>not_converted</th>\n",
              "    </tr>\n",
              "  </thead>\n",
              "  <tbody>\n",
              "    <tr>\n",
              "      <th>control</th>\n",
              "      <td>371</td>\n",
              "      <td>4705</td>\n",
              "    </tr>\n",
              "    <tr>\n",
              "      <th>personalization</th>\n",
              "      <td>705</td>\n",
              "      <td>4241</td>\n",
              "    </tr>\n",
              "  </tbody>\n",
              "</table>\n",
              "</div>\n",
              "      <button class=\"colab-df-convert\" onclick=\"convertToInteractive('df-bce6aed5-40eb-4439-bf67-66e72c1932c2')\"\n",
              "              title=\"Convert this dataframe to an interactive table.\"\n",
              "              style=\"display:none;\">\n",
              "        \n",
              "  <svg xmlns=\"http://www.w3.org/2000/svg\" height=\"24px\"viewBox=\"0 0 24 24\"\n",
              "       width=\"24px\">\n",
              "    <path d=\"M0 0h24v24H0V0z\" fill=\"none\"/>\n",
              "    <path d=\"M18.56 5.44l.94 2.06.94-2.06 2.06-.94-2.06-.94-.94-2.06-.94 2.06-2.06.94zm-11 1L8.5 8.5l.94-2.06 2.06-.94-2.06-.94L8.5 2.5l-.94 2.06-2.06.94zm10 10l.94 2.06.94-2.06 2.06-.94-2.06-.94-.94-2.06-.94 2.06-2.06.94z\"/><path d=\"M17.41 7.96l-1.37-1.37c-.4-.4-.92-.59-1.43-.59-.52 0-1.04.2-1.43.59L10.3 9.45l-7.72 7.72c-.78.78-.78 2.05 0 2.83L4 21.41c.39.39.9.59 1.41.59.51 0 1.02-.2 1.41-.59l7.78-7.78 2.81-2.81c.8-.78.8-2.07 0-2.86zM5.41 20L4 18.59l7.72-7.72 1.47 1.35L5.41 20z\"/>\n",
              "  </svg>\n",
              "      </button>\n",
              "      \n",
              "  <style>\n",
              "    .colab-df-container {\n",
              "      display:flex;\n",
              "      flex-wrap:wrap;\n",
              "      gap: 12px;\n",
              "    }\n",
              "\n",
              "    .colab-df-convert {\n",
              "      background-color: #E8F0FE;\n",
              "      border: none;\n",
              "      border-radius: 50%;\n",
              "      cursor: pointer;\n",
              "      display: none;\n",
              "      fill: #1967D2;\n",
              "      height: 32px;\n",
              "      padding: 0 0 0 0;\n",
              "      width: 32px;\n",
              "    }\n",
              "\n",
              "    .colab-df-convert:hover {\n",
              "      background-color: #E2EBFA;\n",
              "      box-shadow: 0px 1px 2px rgba(60, 64, 67, 0.3), 0px 1px 3px 1px rgba(60, 64, 67, 0.15);\n",
              "      fill: #174EA6;\n",
              "    }\n",
              "\n",
              "    [theme=dark] .colab-df-convert {\n",
              "      background-color: #3B4455;\n",
              "      fill: #D2E3FC;\n",
              "    }\n",
              "\n",
              "    [theme=dark] .colab-df-convert:hover {\n",
              "      background-color: #434B5C;\n",
              "      box-shadow: 0px 1px 3px 1px rgba(0, 0, 0, 0.15);\n",
              "      filter: drop-shadow(0px 1px 2px rgba(0, 0, 0, 0.3));\n",
              "      fill: #FFFFFF;\n",
              "    }\n",
              "  </style>\n",
              "\n",
              "      <script>\n",
              "        const buttonEl =\n",
              "          document.querySelector('#df-bce6aed5-40eb-4439-bf67-66e72c1932c2 button.colab-df-convert');\n",
              "        buttonEl.style.display =\n",
              "          google.colab.kernel.accessAllowed ? 'block' : 'none';\n",
              "\n",
              "        async function convertToInteractive(key) {\n",
              "          const element = document.querySelector('#df-bce6aed5-40eb-4439-bf67-66e72c1932c2');\n",
              "          const dataTable =\n",
              "            await google.colab.kernel.invokeFunction('convertToInteractive',\n",
              "                                                     [key], {});\n",
              "          if (!dataTable) return;\n",
              "\n",
              "          const docLinkHtml = 'Like what you see? Visit the ' +\n",
              "            '<a target=\"_blank\" href=https://colab.research.google.com/notebooks/data_table.ipynb>data table notebook</a>'\n",
              "            + ' to learn more about interactive tables.';\n",
              "          element.innerHTML = '';\n",
              "          dataTable['output_type'] = 'display_data';\n",
              "          await google.colab.output.renderOutput(dataTable, element);\n",
              "          const docLink = document.createElement('div');\n",
              "          docLink.innerHTML = docLinkHtml;\n",
              "          element.appendChild(docLink);\n",
              "        }\n",
              "      </script>\n",
              "    </div>\n",
              "  </div>\n",
              "  "
            ],
            "text/plain": [
              "                 converted  not_converted\n",
              "control                371           4705\n",
              "personalization        705           4241"
            ]
          },
          "metadata": {},
          "execution_count": 63
        }
      ]
    },
    {
      "cell_type": "code",
      "source": [
        "import scipy.stats as stats\n",
        "result = stats.chi2_contingency(df_var, correction = False)\n",
        "chisq, pvalue = result[:2]\n",
        "print('chisq = {}, pvalue = {}'.format(chisq, pvalue))"
      ],
      "metadata": {
        "colab": {
          "base_uri": "https://localhost:8080/"
        },
        "id": "sxRFxYWyGMnJ",
        "outputId": "c8de1d87-c732-49da-bd0b-cf0690cd3e48"
      },
      "execution_count": null,
      "outputs": [
        {
          "output_type": "stream",
          "name": "stdout",
          "text": [
            "chisq = 126.07767827548582, pvalue = 2.9568009705199523e-29\n"
          ]
        }
      ]
    },
    {
      "cell_type": "markdown",
      "source": [
        "Вывод: поскольку значимость A/B теста 2.96e-29 менее допустимого уровня значимости 0,05, то нулевую гипотезу о равенстве конверсий в группах можно отклонить, т.е. группа 'personalization' - действительно генерирует статистически больше конверсий, чем группа 'control'"
      ],
      "metadata": {
        "id": "MbubHec6Ll3s"
      }
    },
    {
      "cell_type": "markdown",
      "source": [
        "## Задание 2\n",
        "\n",
        "Цех может производить стулья и столы. На производство стула идет 5 единиц материала, на производство стола - 20 единиц (футов красного дерева). Стул требует 10 человеко-часов, стол - 15. Имеется 400 единиц материала и 450 человеко-часов. Прибыль при производстве стула - 45 долларов США, при производстве стола - 80 долларов США. Сколько надо сделать стульев и столов, чтобы получить максимальную прибыль?"
      ],
      "metadata": {
        "id": "lMGyDKqt8iwj"
      }
    },
    {
      "cell_type": "code",
      "source": [
        "def value(x):\n",
        "    return - 45*x[0] - 80*x[1]\n",
        "\n",
        "neq_cons = {'type': 'ineq',\n",
        "             'fun': lambda x: np.array ([400 - 5 * x [0] - 20 * x [1],\n",
        "                                         450 - 10 * x [0] - 15 * x [1]])}\n",
        "\n",
        "from scipy.optimize import Bounds\n",
        "bnds = Bounds([0, 0], [np.inf, np.inf])\n",
        "\n",
        "from scipy.optimize import minimize\n",
        "x0 = np.array([10, 10])\n",
        "res = minimize(value, x0, method='SLSQP', constraints=neq_cons, bounds=bnds)\n",
        "\n",
        "print(f'Максимальную прибыль в {-1*value([24, 14])} долларов цех получит при производстве {math.ceil(res.x[0])} стульев и {math.ceil(res.x[1])} столов')"
      ],
      "metadata": {
        "colab": {
          "base_uri": "https://localhost:8080/"
        },
        "id": "4YizLUjCQ7M_",
        "outputId": "9c84a91f-da47-46f2-ed12-0190a8f8ec43"
      },
      "execution_count": null,
      "outputs": [
        {
          "output_type": "stream",
          "name": "stdout",
          "text": [
            "Максимальную прибыль в 2200 долларов цех получит при производстве 24 стульев и 14 столов\n"
          ]
        }
      ]
    },
    {
      "cell_type": "markdown",
      "source": [
        "## Задание 3\n",
        "\n",
        "Средний накопленный доход на пользователя с сайта (cumulative ARPU) составил:\n",
        "\n",
        "day1 0.4\\$,\n",
        "\n",
        "day3 0.6\\$,\n",
        "\n",
        "day7 0.8\\$,\n",
        "\n",
        "day14 1.10\\$,\n",
        "\n",
        "day21 1.30\\$,\n",
        "\n",
        "day30 1.40\\$.\n",
        "\n",
        "Подберите аппроксимирующую кривую и сделайте прогноз, сколько в среднем принесет денег пользователь на 90й день. Обоснуйте выбор одной из аппроксимирующей кривой вида: y = a*b^x или y = a*ln(x) + b."
      ],
      "metadata": {
        "id": "hmN0TVNB8l6_"
      }
    },
    {
      "cell_type": "code",
      "source": [
        "df = pd.DataFrame({'day': [1,3,7,14,21,30],\n",
        "                   'cumulative ARPU': [0.4,0.6,0.8,1.1,1.3,1.4]})\n",
        "\n",
        "plt.figure(num=None, figsize=(8, 6), dpi=80, facecolor='w', edgecolor='k')\n",
        "plt.scatter(df['day'], df['cumulative ARPU'], label=\"Original Data\" )"
      ],
      "metadata": {
        "colab": {
          "base_uri": "https://localhost:8080/",
          "height": 430
        },
        "id": "VZslxRElPpIL",
        "outputId": "ac2103c0-d24f-4592-f106-ed9a52253d87"
      },
      "execution_count": null,
      "outputs": [
        {
          "output_type": "execute_result",
          "data": {
            "text/plain": [
              "<matplotlib.collections.PathCollection at 0x7f00570da950>"
            ]
          },
          "metadata": {},
          "execution_count": 66
        },
        {
          "output_type": "display_data",
          "data": {
            "image/png": "[encoded data removed]",
            "text/plain": [
              "<Figure size 640x480 with 1 Axes>"
            ]
          },
          "metadata": {}
        }
      ]
    },
    {
      "cell_type": "code",
      "source": [
        "def power_func(x, a, b):\n",
        "    return a * np.power(x, b)\n",
        "\n",
        "def ln_func(x, a, b):\n",
        "    return a * np.log(x) + b\n",
        "\n",
        "from scipy.optimize import curve_fit\n",
        "power_popt, power_pcov = curve_fit(power_func, df['day'], df['cumulative ARPU'])\n",
        "\n",
        "ln_popt, ln_pcov = curve_fit(ln_func, df['day'], df['cumulative ARPU'])\n",
        "\n",
        "projection_endpoint = 90\n",
        "\n",
        "power_y_projected = power_func(np.arange(projection_endpoint), *power_popt)\n",
        "ln_y_projected = ln_func(np.arange(projection_endpoint), *ln_popt)\n",
        "\n",
        "plt.figure(num=None, figsize=(8, 6), dpi=90, facecolor='w', edgecolor='k')\n",
        "plt.scatter(df['day'], df['cumulative ARPU'], label=\"Original Data\")\n",
        "plt.plot(power_y_projected, label=\"Power Function Projections\")\n",
        "plt.plot(ln_y_projected, label=\"Ln Function Projections\")\n",
        "plt.legend()\n",
        "plt.show()"
      ],
      "metadata": {
        "colab": {
          "base_uri": "https://localhost:8080/",
          "height": 498
        },
        "id": "8dXgGf4dRrWw",
        "outputId": "5e2b6ca9-57c0-4c56-88be-da0947b05efd"
      },
      "execution_count": null,
      "outputs": [
        {
          "output_type": "stream",
          "name": "stderr",
          "text": [
            "/usr/local/lib/python3.7/dist-packages/ipykernel_launcher.py:5: RuntimeWarning: divide by zero encountered in log\n",
            "  \"\"\"\n"
          ]
        },
        {
          "output_type": "display_data",
          "data": {
            "image/png": "[encoded data removed]",
            "text/plain": [
              "<Figure size 720x540 with 1 Axes>"
            ]
          },
          "metadata": {}
        }
      ]
    },
    {
      "cell_type": "code",
      "source": [
        "print('Прогноз кол-ва пользователей через 90 дней по Power модели', round(power_y_projected[89],2))\n",
        "print('Прогноз кол-ва пользователей через 90 дней по ln модели', round(ln_y_projected[89],2))"
      ],
      "metadata": {
        "colab": {
          "base_uri": "https://localhost:8080/"
        },
        "id": "LBGOHKd3R36e",
        "outputId": "6609b7a4-de91-4a73-c7f7-13a21adee9dd"
      },
      "execution_count": null,
      "outputs": [
        {
          "output_type": "stream",
          "name": "stdout",
          "text": [
            "Прогноз кол-ва пользователей через 90 дней по Power модели 2.17\n",
            "Прогноз кол-ва пользователей через 90 дней по ln модели 1.68\n"
          ]
        }
      ]
    },
    {
      "cell_type": "code",
      "metadata": {
        "id": "WreDYaGjpaXJ"
      },
      "source": [
        "y_power_pred = [power_y_projected[ i ] for i in list(df['day'])]\n",
        "y_power_pred_np = np.array(y_power_pred)\n",
        "\n",
        "y_ln_pred = [ln_y_projected[ i ] for i in list(df['day'])]\n",
        "y_ln_pred_np = np.array(y_ln_pred)\n",
        "\n",
        "real_data_np = np.array([i for i in list(df['cumulative ARPU'])])"
      ],
      "execution_count": null,
      "outputs": []
    },
    {
      "cell_type": "markdown",
      "source": [
        "\n",
        "\n",
        "---\n",
        "\n"
      ],
      "metadata": {
        "id": "gtUXbbQeM1Ko"
      }
    },
    {
      "cell_type": "markdown",
      "source": [
        "Среднеквадратическая ошибка 'power' модели y = ab^x\n",
        "\n",
        "аппроксимация по показательной функции"
      ],
      "metadata": {
        "id": "qyeMbdH8iPnI"
      }
    },
    {
      "cell_type": "code",
      "source": [
        "np.sum(np.power(np.power(real_data_np - y_power_pred_np, 2), 0.5)) / len(real_data_np)"
      ],
      "metadata": {
        "colab": {
          "base_uri": "https://localhost:8080/"
        },
        "id": "dXdSRFpTf5Qs",
        "outputId": "09fdd512-6337-4d76-8fa2-73addaf9ffe9"
      },
      "execution_count": null,
      "outputs": [
        {
          "output_type": "execute_result",
          "data": {
            "text/plain": [
              "0.022904146555173577"
            ]
          },
          "metadata": {},
          "execution_count": 70
        }
      ]
    },
    {
      "cell_type": "markdown",
      "source": [
        "Среднеквадратическая ошибка 'ln' модели y = aln(x) + b\n",
        "\n",
        "аппроксимация по функции натурального логарифма"
      ],
      "metadata": {
        "id": "lR6fcJW3l3Mv"
      }
    },
    {
      "cell_type": "code",
      "source": [
        "np.sum(np.power(np.power(real_data_np - y_ln_pred_np, 2), 0.5)) / len(real_data_np)"
      ],
      "metadata": {
        "colab": {
          "base_uri": "https://localhost:8080/"
        },
        "id": "tINuFjv5jIKN",
        "outputId": "abb4eb17-4ed2-46f9-a108-83ae3cdc2016"
      },
      "execution_count": null,
      "outputs": [
        {
          "output_type": "execute_result",
          "data": {
            "text/plain": [
              "0.0613540760654314"
            ]
          },
          "metadata": {},
          "execution_count": 71
        }
      ]
    },
    {
      "cell_type": "markdown",
      "source": [
        "Вывод: показательная функция аппроксимирует исследуемую зависимость с меньшей среднеквадратической ошибкой, поэтому целесообразнее использовать для прогноза только данную функцию."
      ],
      "metadata": {
        "id": "z5-VsQw2mWIa"
      }
    }
  ]
}