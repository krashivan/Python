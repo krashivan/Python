{
  "nbformat": 4,
  "nbformat_minor": 0,
  "metadata": {
    "colab": {
      "name": "HW_Lesson_2.ipynb",
      "provenance": [],
      "collapsed_sections": []
    },
    "kernelspec": {
      "name": "python3",
      "display_name": "Python 3"
    },
    "language_info": {
      "name": "python"
    }
  },
  "cells": [
    {
      "cell_type": "markdown",
      "source": [
        "# Практическое задание №2"
      ],
      "metadata": {
        "id": "FUCAGcZWo1Pm"
      }
    },
    {
      "cell_type": "markdown",
      "source": [
        "Загрузка источников данных"
      ],
      "metadata": {
        "id": "ffZoqGsShKdD"
      }
    },
    {
      "cell_type": "code",
      "execution_count": null,
      "metadata": {
        "id": "dM3kUu8_f8OW"
      },
      "outputs": [],
      "source": [
        "!wget https://github.com/krashivan/working_files/raw/main/PA2HW1/marketing_campaign.csv"
      ]
    },
    {
      "cell_type": "code",
      "source": [
        "!wget https://github.com/krashivan/working_files/raw/main/PA2HW1/subscribers.csv"
      ],
      "metadata": {
        "id": "Haj-qtFTgseY"
      },
      "execution_count": null,
      "outputs": []
    },
    {
      "cell_type": "code",
      "source": [
        "!wget https://github.com/krashivan/working_files/raw/main/PA2HW1/users.csv"
      ],
      "metadata": {
        "id": "FZwNS6yxg234"
      },
      "execution_count": null,
      "outputs": []
    },
    {
      "cell_type": "markdown",
      "source": [
        "#Задание 1\n",
        "Загрузить, определить количество строк и склеить 3 датасета"
      ],
      "metadata": {
        "id": "SULdqGQYpM1Q"
      }
    },
    {
      "cell_type": "code",
      "source": [
        "import pandas as pd\n",
        "\n",
        "df_mark = pd.read_csv('marketing_campaign.csv', header = 0, sep=',')\n",
        "df_sub = pd.read_csv('subscribers.csv', header = 0, sep=',')\n",
        "df_user = pd.read_csv('users.csv', header = 0, sep=',')\n",
        "\n",
        "print(f'marketing_campaign - {len(df_mark)}\\nsubscribers - {len(df_sub)}\\nusers - {len(df_user)}')\n",
        "\n",
        "df_united_all = pd.merge(df_mark, df_sub, on = 'user_id', how = 'left').merge(df_user, on = 'user_id', how = 'left')\n",
        "\n",
        "df_united_all.head()"
      ],
      "metadata": {
        "colab": {
          "base_uri": "https://localhost:8080/",
          "height": 385
        },
        "id": "3lA4CUxKIG-4",
        "outputId": "9da76706-72be-4cd1-d65a-29ee529a162e"
      },
      "execution_count": 4,
      "outputs": [
        {
          "output_type": "stream",
          "name": "stdout",
          "text": [
            "marketing_campaign - 10037\n",
            "subscribers - 10037\n",
            "users - 10037\n"
          ]
        },
        {
          "output_type": "execute_result",
          "data": {
            "text/html": [
              "\n",
              "  <div id=\"df-22941c31-1866-4cce-a3dc-a0e2b848d55f\">\n",
              "    <div class=\"colab-df-container\">\n",
              "      <div>\n",
              "<style scoped>\n",
              "    .dataframe tbody tr th:only-of-type {\n",
              "        vertical-align: middle;\n",
              "    }\n",
              "\n",
              "    .dataframe tbody tr th {\n",
              "        vertical-align: top;\n",
              "    }\n",
              "\n",
              "    .dataframe thead th {\n",
              "        text-align: right;\n",
              "    }\n",
              "</style>\n",
              "<table border=\"1\" class=\"dataframe\">\n",
              "  <thead>\n",
              "    <tr style=\"text-align: right;\">\n",
              "      <th></th>\n",
              "      <th>user_id</th>\n",
              "      <th>date_served</th>\n",
              "      <th>marketing_channel</th>\n",
              "      <th>variant</th>\n",
              "      <th>language_displayed</th>\n",
              "      <th>converted</th>\n",
              "      <th>subscribing_channel</th>\n",
              "      <th>date_subscribed</th>\n",
              "      <th>date_canceled</th>\n",
              "      <th>is_retained</th>\n",
              "      <th>age_group</th>\n",
              "      <th>language_preferred</th>\n",
              "    </tr>\n",
              "  </thead>\n",
              "  <tbody>\n",
              "    <tr>\n",
              "      <th>0</th>\n",
              "      <td>a1000</td>\n",
              "      <td>1/1/18</td>\n",
              "      <td>House Ads</td>\n",
              "      <td>personalization</td>\n",
              "      <td>English</td>\n",
              "      <td>True</td>\n",
              "      <td>House Ads</td>\n",
              "      <td>1/1/18</td>\n",
              "      <td>NaN</td>\n",
              "      <td>True</td>\n",
              "      <td>0-18 years</td>\n",
              "      <td>English</td>\n",
              "    </tr>\n",
              "    <tr>\n",
              "      <th>1</th>\n",
              "      <td>a1001</td>\n",
              "      <td>1/1/18</td>\n",
              "      <td>House Ads</td>\n",
              "      <td>personalization</td>\n",
              "      <td>English</td>\n",
              "      <td>True</td>\n",
              "      <td>House Ads</td>\n",
              "      <td>1/1/18</td>\n",
              "      <td>NaN</td>\n",
              "      <td>True</td>\n",
              "      <td>19-24 years</td>\n",
              "      <td>English</td>\n",
              "    </tr>\n",
              "    <tr>\n",
              "      <th>2</th>\n",
              "      <td>a1002</td>\n",
              "      <td>1/1/18</td>\n",
              "      <td>House Ads</td>\n",
              "      <td>personalization</td>\n",
              "      <td>English</td>\n",
              "      <td>True</td>\n",
              "      <td>House Ads</td>\n",
              "      <td>1/1/18</td>\n",
              "      <td>NaN</td>\n",
              "      <td>True</td>\n",
              "      <td>24-30 years</td>\n",
              "      <td>English</td>\n",
              "    </tr>\n",
              "    <tr>\n",
              "      <th>3</th>\n",
              "      <td>a1003</td>\n",
              "      <td>1/1/18</td>\n",
              "      <td>House Ads</td>\n",
              "      <td>personalization</td>\n",
              "      <td>English</td>\n",
              "      <td>True</td>\n",
              "      <td>House Ads</td>\n",
              "      <td>1/1/18</td>\n",
              "      <td>NaN</td>\n",
              "      <td>True</td>\n",
              "      <td>30-36 years</td>\n",
              "      <td>English</td>\n",
              "    </tr>\n",
              "    <tr>\n",
              "      <th>4</th>\n",
              "      <td>a1004</td>\n",
              "      <td>1/1/18</td>\n",
              "      <td>House Ads</td>\n",
              "      <td>personalization</td>\n",
              "      <td>English</td>\n",
              "      <td>True</td>\n",
              "      <td>House Ads</td>\n",
              "      <td>1/1/18</td>\n",
              "      <td>NaN</td>\n",
              "      <td>True</td>\n",
              "      <td>36-45 years</td>\n",
              "      <td>English</td>\n",
              "    </tr>\n",
              "  </tbody>\n",
              "</table>\n",
              "</div>\n",
              "      <button class=\"colab-df-convert\" onclick=\"convertToInteractive('df-22941c31-1866-4cce-a3dc-a0e2b848d55f')\"\n",
              "              title=\"Convert this dataframe to an interactive table.\"\n",
              "              style=\"display:none;\">\n",
              "        \n",
              "  <svg xmlns=\"http://www.w3.org/2000/svg\" height=\"24px\"viewBox=\"0 0 24 24\"\n",
              "       width=\"24px\">\n",
              "    <path d=\"M0 0h24v24H0V0z\" fill=\"none\"/>\n",
              "    <path d=\"M18.56 5.44l.94 2.06.94-2.06 2.06-.94-2.06-.94-.94-2.06-.94 2.06-2.06.94zm-11 1L8.5 8.5l.94-2.06 2.06-.94-2.06-.94L8.5 2.5l-.94 2.06-2.06.94zm10 10l.94 2.06.94-2.06 2.06-.94-2.06-.94-.94-2.06-.94 2.06-2.06.94z\"/><path d=\"M17.41 7.96l-1.37-1.37c-.4-.4-.92-.59-1.43-.59-.52 0-1.04.2-1.43.59L10.3 9.45l-7.72 7.72c-.78.78-.78 2.05 0 2.83L4 21.41c.39.39.9.59 1.41.59.51 0 1.02-.2 1.41-.59l7.78-7.78 2.81-2.81c.8-.78.8-2.07 0-2.86zM5.41 20L4 18.59l7.72-7.72 1.47 1.35L5.41 20z\"/>\n",
              "  </svg>\n",
              "      </button>\n",
              "      \n",
              "  <style>\n",
              "    .colab-df-container {\n",
              "      display:flex;\n",
              "      flex-wrap:wrap;\n",
              "      gap: 12px;\n",
              "    }\n",
              "\n",
              "    .colab-df-convert {\n",
              "      background-color: #E8F0FE;\n",
              "      border: none;\n",
              "      border-radius: 50%;\n",
              "      cursor: pointer;\n",
              "      display: none;\n",
              "      fill: #1967D2;\n",
              "      height: 32px;\n",
              "      padding: 0 0 0 0;\n",
              "      width: 32px;\n",
              "    }\n",
              "\n",
              "    .colab-df-convert:hover {\n",
              "      background-color: #E2EBFA;\n",
              "      box-shadow: 0px 1px 2px rgba(60, 64, 67, 0.3), 0px 1px 3px 1px rgba(60, 64, 67, 0.15);\n",
              "      fill: #174EA6;\n",
              "    }\n",
              "\n",
              "    [theme=dark] .colab-df-convert {\n",
              "      background-color: #3B4455;\n",
              "      fill: #D2E3FC;\n",
              "    }\n",
              "\n",
              "    [theme=dark] .colab-df-convert:hover {\n",
              "      background-color: #434B5C;\n",
              "      box-shadow: 0px 1px 3px 1px rgba(0, 0, 0, 0.15);\n",
              "      filter: drop-shadow(0px 1px 2px rgba(0, 0, 0, 0.3));\n",
              "      fill: #FFFFFF;\n",
              "    }\n",
              "  </style>\n",
              "\n",
              "      <script>\n",
              "        const buttonEl =\n",
              "          document.querySelector('#df-22941c31-1866-4cce-a3dc-a0e2b848d55f button.colab-df-convert');\n",
              "        buttonEl.style.display =\n",
              "          google.colab.kernel.accessAllowed ? 'block' : 'none';\n",
              "\n",
              "        async function convertToInteractive(key) {\n",
              "          const element = document.querySelector('#df-22941c31-1866-4cce-a3dc-a0e2b848d55f');\n",
              "          const dataTable =\n",
              "            await google.colab.kernel.invokeFunction('convertToInteractive',\n",
              "                                                     [key], {});\n",
              "          if (!dataTable) return;\n",
              "\n",
              "          const docLinkHtml = 'Like what you see? Visit the ' +\n",
              "            '<a target=\"_blank\" href=https://colab.research.google.com/notebooks/data_table.ipynb>data table notebook</a>'\n",
              "            + ' to learn more about interactive tables.';\n",
              "          element.innerHTML = '';\n",
              "          dataTable['output_type'] = 'display_data';\n",
              "          await google.colab.output.renderOutput(dataTable, element);\n",
              "          const docLink = document.createElement('div');\n",
              "          docLink.innerHTML = docLinkHtml;\n",
              "          element.appendChild(docLink);\n",
              "        }\n",
              "      </script>\n",
              "    </div>\n",
              "  </div>\n",
              "  "
            ],
            "text/plain": [
              "  user_id date_served  ...    age_group language_preferred\n",
              "0   a1000      1/1/18  ...   0-18 years            English\n",
              "1   a1001      1/1/18  ...  19-24 years            English\n",
              "2   a1002      1/1/18  ...  24-30 years            English\n",
              "3   a1003      1/1/18  ...  30-36 years            English\n",
              "4   a1004      1/1/18  ...  36-45 years            English\n",
              "\n",
              "[5 rows x 12 columns]"
            ]
          },
          "metadata": {},
          "execution_count": 4
        }
      ]
    },
    {
      "cell_type": "markdown",
      "source": [
        "#Задание 2\n",
        "Определить количество, типы и описательные статистики колонок (столбцов) получившегося датасета"
      ],
      "metadata": {
        "id": "uzXDm_PQk_rO"
      }
    },
    {
      "cell_type": "code",
      "source": [
        "df_united_all.info()\n",
        "df_united_all.describe()"
      ],
      "metadata": {
        "id": "kGeud3pigbQG",
        "colab": {
          "base_uri": "https://localhost:8080/",
          "height": 552
        },
        "outputId": "fb3381fb-1008-4848-e415-e0aab017aa98"
      },
      "execution_count": 9,
      "outputs": [
        {
          "output_type": "stream",
          "name": "stdout",
          "text": [
            "<class 'pandas.core.frame.DataFrame'>\n",
            "Int64Index: 10037 entries, 0 to 10036\n",
            "Data columns (total 12 columns):\n",
            " #   Column               Non-Null Count  Dtype \n",
            "---  ------               --------------  ----- \n",
            " 0   user_id              10037 non-null  object\n",
            " 1   date_served          10021 non-null  object\n",
            " 2   marketing_channel    10022 non-null  object\n",
            " 3   variant              10037 non-null  object\n",
            " 4   language_displayed   10037 non-null  object\n",
            " 5   converted            10022 non-null  object\n",
            " 6   subscribing_channel  1856 non-null   object\n",
            " 7   date_subscribed      1856 non-null   object\n",
            " 8   date_canceled        577 non-null    object\n",
            " 9   is_retained          1856 non-null   object\n",
            " 10  age_group            10037 non-null  object\n",
            " 11  language_preferred   10037 non-null  object\n",
            "dtypes: object(12)\n",
            "memory usage: 1019.4+ KB\n"
          ]
        },
        {
          "output_type": "execute_result",
          "data": {
            "text/html": [
              "\n",
              "  <div id=\"df-a5162e8d-8010-4a8c-8193-8e703b11c64e\">\n",
              "    <div class=\"colab-df-container\">\n",
              "      <div>\n",
              "<style scoped>\n",
              "    .dataframe tbody tr th:only-of-type {\n",
              "        vertical-align: middle;\n",
              "    }\n",
              "\n",
              "    .dataframe tbody tr th {\n",
              "        vertical-align: top;\n",
              "    }\n",
              "\n",
              "    .dataframe thead th {\n",
              "        text-align: right;\n",
              "    }\n",
              "</style>\n",
              "<table border=\"1\" class=\"dataframe\">\n",
              "  <thead>\n",
              "    <tr style=\"text-align: right;\">\n",
              "      <th></th>\n",
              "      <th>user_id</th>\n",
              "      <th>date_served</th>\n",
              "      <th>marketing_channel</th>\n",
              "      <th>variant</th>\n",
              "      <th>language_displayed</th>\n",
              "      <th>converted</th>\n",
              "      <th>subscribing_channel</th>\n",
              "      <th>date_subscribed</th>\n",
              "      <th>date_canceled</th>\n",
              "      <th>is_retained</th>\n",
              "      <th>age_group</th>\n",
              "      <th>language_preferred</th>\n",
              "    </tr>\n",
              "  </thead>\n",
              "  <tbody>\n",
              "    <tr>\n",
              "      <th>count</th>\n",
              "      <td>10037</td>\n",
              "      <td>10021</td>\n",
              "      <td>10022</td>\n",
              "      <td>10037</td>\n",
              "      <td>10037</td>\n",
              "      <td>10022</td>\n",
              "      <td>1856</td>\n",
              "      <td>1856</td>\n",
              "      <td>577</td>\n",
              "      <td>1856</td>\n",
              "      <td>10037</td>\n",
              "      <td>10037</td>\n",
              "    </tr>\n",
              "    <tr>\n",
              "      <th>unique</th>\n",
              "      <td>10037</td>\n",
              "      <td>31</td>\n",
              "      <td>5</td>\n",
              "      <td>2</td>\n",
              "      <td>4</td>\n",
              "      <td>2</td>\n",
              "      <td>5</td>\n",
              "      <td>31</td>\n",
              "      <td>115</td>\n",
              "      <td>2</td>\n",
              "      <td>7</td>\n",
              "      <td>4</td>\n",
              "    </tr>\n",
              "    <tr>\n",
              "      <th>top</th>\n",
              "      <td>a4540</td>\n",
              "      <td>1/15/18</td>\n",
              "      <td>House Ads</td>\n",
              "      <td>control</td>\n",
              "      <td>English</td>\n",
              "      <td>False</td>\n",
              "      <td>Instagram</td>\n",
              "      <td>1/16/18</td>\n",
              "      <td>4/2/18</td>\n",
              "      <td>True</td>\n",
              "      <td>19-24 years</td>\n",
              "      <td>English</td>\n",
              "    </tr>\n",
              "    <tr>\n",
              "      <th>freq</th>\n",
              "      <td>1</td>\n",
              "      <td>789</td>\n",
              "      <td>4733</td>\n",
              "      <td>5091</td>\n",
              "      <td>9793</td>\n",
              "      <td>8946</td>\n",
              "      <td>600</td>\n",
              "      <td>163</td>\n",
              "      <td>15</td>\n",
              "      <td>1279</td>\n",
              "      <td>1682</td>\n",
              "      <td>9275</td>\n",
              "    </tr>\n",
              "  </tbody>\n",
              "</table>\n",
              "</div>\n",
              "      <button class=\"colab-df-convert\" onclick=\"convertToInteractive('df-a5162e8d-8010-4a8c-8193-8e703b11c64e')\"\n",
              "              title=\"Convert this dataframe to an interactive table.\"\n",
              "              style=\"display:none;\">\n",
              "        \n",
              "  <svg xmlns=\"http://www.w3.org/2000/svg\" height=\"24px\"viewBox=\"0 0 24 24\"\n",
              "       width=\"24px\">\n",
              "    <path d=\"M0 0h24v24H0V0z\" fill=\"none\"/>\n",
              "    <path d=\"M18.56 5.44l.94 2.06.94-2.06 2.06-.94-2.06-.94-.94-2.06-.94 2.06-2.06.94zm-11 1L8.5 8.5l.94-2.06 2.06-.94-2.06-.94L8.5 2.5l-.94 2.06-2.06.94zm10 10l.94 2.06.94-2.06 2.06-.94-2.06-.94-.94-2.06-.94 2.06-2.06.94z\"/><path d=\"M17.41 7.96l-1.37-1.37c-.4-.4-.92-.59-1.43-.59-.52 0-1.04.2-1.43.59L10.3 9.45l-7.72 7.72c-.78.78-.78 2.05 0 2.83L4 21.41c.39.39.9.59 1.41.59.51 0 1.02-.2 1.41-.59l7.78-7.78 2.81-2.81c.8-.78.8-2.07 0-2.86zM5.41 20L4 18.59l7.72-7.72 1.47 1.35L5.41 20z\"/>\n",
              "  </svg>\n",
              "      </button>\n",
              "      \n",
              "  <style>\n",
              "    .colab-df-container {\n",
              "      display:flex;\n",
              "      flex-wrap:wrap;\n",
              "      gap: 12px;\n",
              "    }\n",
              "\n",
              "    .colab-df-convert {\n",
              "      background-color: #E8F0FE;\n",
              "      border: none;\n",
              "      border-radius: 50%;\n",
              "      cursor: pointer;\n",
              "      display: none;\n",
              "      fill: #1967D2;\n",
              "      height: 32px;\n",
              "      padding: 0 0 0 0;\n",
              "      width: 32px;\n",
              "    }\n",
              "\n",
              "    .colab-df-convert:hover {\n",
              "      background-color: #E2EBFA;\n",
              "      box-shadow: 0px 1px 2px rgba(60, 64, 67, 0.3), 0px 1px 3px 1px rgba(60, 64, 67, 0.15);\n",
              "      fill: #174EA6;\n",
              "    }\n",
              "\n",
              "    [theme=dark] .colab-df-convert {\n",
              "      background-color: #3B4455;\n",
              "      fill: #D2E3FC;\n",
              "    }\n",
              "\n",
              "    [theme=dark] .colab-df-convert:hover {\n",
              "      background-color: #434B5C;\n",
              "      box-shadow: 0px 1px 3px 1px rgba(0, 0, 0, 0.15);\n",
              "      filter: drop-shadow(0px 1px 2px rgba(0, 0, 0, 0.3));\n",
              "      fill: #FFFFFF;\n",
              "    }\n",
              "  </style>\n",
              "\n",
              "      <script>\n",
              "        const buttonEl =\n",
              "          document.querySelector('#df-a5162e8d-8010-4a8c-8193-8e703b11c64e button.colab-df-convert');\n",
              "        buttonEl.style.display =\n",
              "          google.colab.kernel.accessAllowed ? 'block' : 'none';\n",
              "\n",
              "        async function convertToInteractive(key) {\n",
              "          const element = document.querySelector('#df-a5162e8d-8010-4a8c-8193-8e703b11c64e');\n",
              "          const dataTable =\n",
              "            await google.colab.kernel.invokeFunction('convertToInteractive',\n",
              "                                                     [key], {});\n",
              "          if (!dataTable) return;\n",
              "\n",
              "          const docLinkHtml = 'Like what you see? Visit the ' +\n",
              "            '<a target=\"_blank\" href=https://colab.research.google.com/notebooks/data_table.ipynb>data table notebook</a>'\n",
              "            + ' to learn more about interactive tables.';\n",
              "          element.innerHTML = '';\n",
              "          dataTable['output_type'] = 'display_data';\n",
              "          await google.colab.output.renderOutput(dataTable, element);\n",
              "          const docLink = document.createElement('div');\n",
              "          docLink.innerHTML = docLinkHtml;\n",
              "          element.appendChild(docLink);\n",
              "        }\n",
              "      </script>\n",
              "    </div>\n",
              "  </div>\n",
              "  "
            ],
            "text/plain": [
              "       user_id date_served  ...    age_group language_preferred\n",
              "count    10037       10021  ...        10037              10037\n",
              "unique   10037          31  ...            7                  4\n",
              "top      a4540     1/15/18  ...  19-24 years            English\n",
              "freq         1         789  ...         1682               9275\n",
              "\n",
              "[4 rows x 12 columns]"
            ]
          },
          "metadata": {},
          "execution_count": 9
        }
      ]
    },
    {
      "cell_type": "markdown",
      "source": [
        "#Задание 3\n",
        "Определить эффективность маркетинговых каналов по привлечению платящих игроков"
      ],
      "metadata": {
        "id": "Cdb_PVJ6mXqw"
      }
    },
    {
      "cell_type": "code",
      "source": [
        "df_united_all['marketing_channel'].loc[df_united_all['converted'] == 1].value_counts(normalize=True)"
      ],
      "metadata": {
        "colab": {
          "base_uri": "https://localhost:8080/"
        },
        "id": "sQ9jmQ0ldRit",
        "outputId": "60240ae6-443b-47da-8cea-beb8d3fa77f1"
      },
      "execution_count": 8,
      "outputs": [
        {
          "output_type": "execute_result",
          "data": {
            "text/plain": [
              "House Ads    0.276952\n",
              "Instagram    0.246283\n",
              "Facebook     0.220260\n",
              "Email        0.179368\n",
              "Push         0.077138\n",
              "Name: marketing_channel, dtype: float64"
            ]
          },
          "metadata": {},
          "execution_count": 8
        }
      ]
    },
    {
      "cell_type": "markdown",
      "source": [
        "#Задание 4\n",
        "Определить самую раннюю дату подписки на сервис"
      ],
      "metadata": {
        "id": "pAcwNZyV1l15"
      }
    },
    {
      "cell_type": "code",
      "source": [
        "data = {'Date': df_united_all['date_subscribed']}\n",
        "subscribed_date_only = pd.DataFrame(data)\n",
        "subscribed_date_only['Date'] = pd.to_datetime(subscribed_date_only['Date'])\n",
        "\n",
        "print(subscribed_date_only['Date'].min())"
      ],
      "metadata": {
        "id": "b1XJHAEp-tgF",
        "colab": {
          "base_uri": "https://localhost:8080/"
        },
        "outputId": "82ae5020-b037-46cd-8878-98a690348c4b"
      },
      "execution_count": 10,
      "outputs": [
        {
          "output_type": "stream",
          "name": "stdout",
          "text": [
            "2018-01-01 00:00:00\n"
          ]
        }
      ]
    },
    {
      "cell_type": "markdown",
      "source": [
        "#Задание 5\n",
        "Определить портрет аудитории удержанных подписчиков (по возрасту и языку)"
      ],
      "metadata": {
        "id": "I9GoOkJ8HRQg"
      }
    },
    {
      "cell_type": "code",
      "source": [
        "audience_portrait = df_united_all.loc[df_united_all['is_retained'] == True, ['language_preferred', 'age_group']].groupby(by=['language_preferred', 'age_group']).size()\n",
        "\n",
        "audience_portrait"
      ],
      "metadata": {
        "id": "BNapZctwLE5Z",
        "colab": {
          "base_uri": "https://localhost:8080/"
        },
        "outputId": "585b55cd-75a0-4952-9645-3d2376c33abe"
      },
      "execution_count": 11,
      "outputs": [
        {
          "output_type": "execute_result",
          "data": {
            "text/plain": [
              "language_preferred  age_group  \n",
              "Arabic              0-18 years       3\n",
              "                    19-24 years      1\n",
              "                    24-30 years      3\n",
              "                    36-45 years      1\n",
              "                    45-55 years      2\n",
              "                    55+ years        2\n",
              "English             0-18 years     210\n",
              "                    19-24 years    304\n",
              "                    24-30 years    250\n",
              "                    30-36 years    114\n",
              "                    36-45 years    107\n",
              "                    45-55 years    108\n",
              "                    55+ years       86\n",
              "German              0-18 years      10\n",
              "                    19-24 years     11\n",
              "                    24-30 years     15\n",
              "                    30-36 years      1\n",
              "                    36-45 years      2\n",
              "                    45-55 years      3\n",
              "                    55+ years        2\n",
              "Spanish             0-18 years       6\n",
              "                    19-24 years     10\n",
              "                    24-30 years      5\n",
              "                    30-36 years      7\n",
              "                    36-45 years      5\n",
              "                    45-55 years      6\n",
              "                    55+ years        5\n",
              "dtype: int64"
            ]
          },
          "metadata": {},
          "execution_count": 11
        }
      ]
    }
  ]
}